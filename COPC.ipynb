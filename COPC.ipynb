{
 "cells": [
  {
   "cell_type": "code",
   "execution_count": 2,
   "id": "c6ad4b05-91c8-44a1-8177-a2a5530fabbb",
   "metadata": {},
   "outputs": [
    {
     "name": "stdout",
     "output_type": "stream",
     "text": [
      "Python version: 3.9.18 | packaged by conda-forge | (main, Dec 23 2023, 16:35:41) \n",
      "[Clang 16.0.6 ]\n",
      "Pdal version: 3.4.5\n",
      "Laspy version: 2.5.3\n",
      "numpy version: 1.26.4\n",
      "------------------------------------\n"
     ]
    }
   ],
   "source": [
    "# Import libraries\n",
    "import sys\n",
    "import pdal\n",
    "from osgeo import gdal\n",
    "import numpy as np\n",
    "import math\n",
    "import laspy\n",
    "import rasterio\n",
    "import scipy\n",
    "from scipy import interpolate\n",
    "from scipy.spatial import ConvexHull, cKDTree, Delaunay\n",
    "from scipy.ndimage import median_filter, minimum_filter\n",
    "from matplotlib import cm\n",
    "from matplotlib import pyplot as plt\n",
    "from descartes import PolygonPatch\n",
    "from fiona import collection\n",
    "from shapely.geometry import shape\n",
    "import subprocess\n",
    "from subprocess import run\n",
    "import json\n",
    "import zipfile\n",
    "import os\n",
    "import time\n",
    "import threading\n",
    "\n",
    "\n",
    "\n",
    "# Check versions\n",
    "print(\"Python version:\", sys.version)\n",
    "print(\"Pdal version:\", pdal.__version__)\n",
    "print(\"Laspy version:\", laspy.__version__)\n",
    "print(\"numpy version:\", np.__version__)\n",
    "print(\"------------------------------------\")"
   ]
  },
  {
   "cell_type": "code",
   "execution_count": 26,
   "id": "ce8797df-5ece-4d32-81da-eb85538f6650",
   "metadata": {},
   "outputs": [
    {
     "name": "stdout",
     "output_type": "stream",
     "text": [
      "Chunk 1/20 saved as /Users/yitingcheng/Documents/projection/Daniel Herstine Scan Data_0_chunk.las\n",
      "Chunk 2/20 saved as /Users/yitingcheng/Documents/projection/Daniel Herstine Scan Data_1_chunk.las\n",
      "Chunk 3/20 saved as /Users/yitingcheng/Documents/projection/Daniel Herstine Scan Data_2_chunk.las\n",
      "Chunk 4/20 saved as /Users/yitingcheng/Documents/projection/Daniel Herstine Scan Data_3_chunk.las\n",
      "Chunk 5/20 saved as /Users/yitingcheng/Documents/projection/Daniel Herstine Scan Data_4_chunk.las\n",
      "Chunk 6/20 saved as /Users/yitingcheng/Documents/projection/Daniel Herstine Scan Data_5_chunk.las\n",
      "Chunk 7/20 saved as /Users/yitingcheng/Documents/projection/Daniel Herstine Scan Data_6_chunk.las\n",
      "Chunk 8/20 saved as /Users/yitingcheng/Documents/projection/Daniel Herstine Scan Data_7_chunk.las\n",
      "Chunk 9/20 saved as /Users/yitingcheng/Documents/projection/Daniel Herstine Scan Data_8_chunk.las\n",
      "Chunk 10/20 saved as /Users/yitingcheng/Documents/projection/Daniel Herstine Scan Data_9_chunk.las\n",
      "Chunk 11/20 saved as /Users/yitingcheng/Documents/projection/Daniel Herstine Scan Data_10_chunk.las\n",
      "Chunk 12/20 saved as /Users/yitingcheng/Documents/projection/Daniel Herstine Scan Data_11_chunk.las\n",
      "Chunk 13/20 saved as /Users/yitingcheng/Documents/projection/Daniel Herstine Scan Data_12_chunk.las\n",
      "Chunk 14/20 saved as /Users/yitingcheng/Documents/projection/Daniel Herstine Scan Data_13_chunk.las\n",
      "Chunk 15/20 saved as /Users/yitingcheng/Documents/projection/Daniel Herstine Scan Data_14_chunk.las\n",
      "Chunk 16/20 saved as /Users/yitingcheng/Documents/projection/Daniel Herstine Scan Data_15_chunk.las\n",
      "Chunk 17/20 saved as /Users/yitingcheng/Documents/projection/Daniel Herstine Scan Data_16_chunk.las\n",
      "Chunk 18/20 saved as /Users/yitingcheng/Documents/projection/Daniel Herstine Scan Data_17_chunk.las\n",
      "Chunk 19/20 saved as /Users/yitingcheng/Documents/projection/Daniel Herstine Scan Data_18_chunk.las\n",
      "Chunk 20/20 saved as /Users/yitingcheng/Documents/projection/Daniel Herstine Scan Data_19_chunk.las\n",
      "Chunk finished -- processing time: 23.2381808757782 seconds\n"
     ]
    }
   ],
   "source": [
    "def chunk_las(las_input: str):\n",
    "    \n",
    "    with laspy.open(las_input) as las:\n",
    "\n",
    "        min_x, max_x = las.header.min[0], las.header.max[0]\n",
    "        min_y, max_y = las.header.min[1], las.header.max[1]\n",
    "        min_z, max_z = las.header.min[2], las.header.max[2]\n",
    "        extent = (min_x, max_x, min_y, max_y, min_z, max_z)\n",
    "\n",
    "        # Get LAS version\n",
    "        minor_version = las.header.version.minor\n",
    "        point_format_id = las.header.point_format.id\n",
    "        \n",
    "        # Get XYZ scale and offset\n",
    "        scale = las.header.scale\n",
    "        offset = las.header.offset\n",
    "    \n",
    "\n",
    "        total_points = las.header.point_count\n",
    "        num_chunks = (total_points // 30_000_000) + 1\n",
    "        chunk_index = 0\n",
    "\n",
    "        for points in las.chunk_iterator(30_000_000):\n",
    "            # Define output filename for each chunk\n",
    "            base_name, format = os.path.splitext(las_input)\n",
    "            output_file = f\"{base_name}_{chunk_index}_chunk{format}\"\n",
    "\n",
    "            # Create a new LAS file for this chunk\n",
    "            with laspy.open(output_file, mode=\"w\", header=las.header) as output_las:\n",
    "                output_las.write_points(points)\n",
    "                print(f\"Chunk {chunk_index + 1}/{num_chunks} saved as {output_file}\")\n",
    "                \n",
    "            chunk_index += 1\n",
    "\n",
    "    return {\n",
    "            'extent': extent,\n",
    "            'minor_version': minor_version,\n",
    "            'point_format_id': point_format_id,\n",
    "            'scale': scale,\n",
    "            'offset': offset,\n",
    "            'num_chunks':num_chunks,\n",
    "        }\n",
    "    \n",
    "start_time = time.time()\n",
    "results = chunk_las('/Users/yitingcheng/Documents/projection/Daniel Herstine Scan Data.las')\n",
    "end_time = time.time()\n",
    "print(f\"Chunk finished -- processing time: {end_time - start_time} seconds\")"
   ]
  },
  {
   "cell_type": "code",
   "execution_count": 24,
   "id": "e923130b-12f6-43c4-aa73-fbde963d7e54",
   "metadata": {},
   "outputs": [
    {
     "name": "stderr",
     "output_type": "stream",
     "text": [
      "(PDAL Debug) Debugging...\n",
      "(pdal pipeline Debug) Executing pipeline in standard mode.\n"
     ]
    },
    {
     "name": "stdout",
     "output_type": "stream",
     "text": [
      "COPC conversion finished -- processing time: 30.788501977920532 seconds\n"
     ]
    }
   ],
   "source": [
    "def convert_copc():\n",
    "    \n",
    "    check_pipeline = [\n",
    "        \"/Users/yitingcheng/Documents/projection/Daniel Herstine Scan Data_19_chunk.las\",\n",
    "        { \"type\":\"writers.copc\", \"filename\":\"Daniel Herstine Scan Data_19_chunk.copc.laz\"}\n",
    "    ]\n",
    "    pdal_command = [\"pdal\", \"pipeline\", \"--stdin\", \"-v\", \"8\"]\n",
    "    run(pdal_command, input=json.dumps(check_pipeline).encode(), check=True)\n",
    "\n",
    "start_time = time.time()\n",
    "convert_copc()\n",
    "end_time = time.time()\n",
    "print(f\"COPC conversion finished -- processing time: {end_time - start_time} seconds\")"
   ]
  },
  {
   "cell_type": "code",
   "execution_count": 3,
   "id": "95fd970c-f586-4e88-8cfb-504f50c58f79",
   "metadata": {},
   "outputs": [
    {
     "name": "stderr",
     "output_type": "stream",
     "text": [
      "(PDAL Debug) Debugging...\n",
      "(pdal pipeline Debug) Executing pipeline in standard mode.\n",
      "(pdal pipeline readers.copc Debug) 1458 overlapping nodes\n",
      "(pdal pipeline readers.copc Debug) 1960 overlapping nodes\n",
      "(pdal pipeline readers.copc Debug) 1074 overlapping nodes\n",
      "(pdal pipeline readers.copc Debug) 1086 overlapping nodes\n",
      "(pdal pipeline readers.copc Debug) 1512 overlapping nodes\n",
      "(pdal pipeline readers.copc Debug) 1768 overlapping nodes\n",
      "(pdal pipeline readers.copc Debug) 1668 overlapping nodes\n",
      "(pdal pipeline readers.copc Debug) 1335 overlapping nodes\n",
      "(pdal pipeline readers.copc Debug) 1229 overlapping nodes\n",
      "(pdal pipeline readers.copc Debug) 1380 overlapping nodes\n",
      "(pdal pipeline readers.copc Debug) 1323 overlapping nodes\n",
      "(pdal pipeline readers.copc Debug) 1189 overlapping nodes\n",
      "(pdal pipeline readers.copc Debug) 1174 overlapping nodes\n",
      "(pdal pipeline readers.copc Debug) 1140 overlapping nodes\n",
      "(pdal pipeline readers.copc Debug) 1366 overlapping nodes\n",
      "(pdal pipeline readers.copc Debug) 2411 overlapping nodes\n",
      "(pdal pipeline readers.copc Debug) 1066 overlapping nodes\n",
      "(pdal pipeline readers.copc Debug) 1109 overlapping nodes\n",
      "(pdal pipeline readers.copc Debug) 1256 overlapping nodes\n",
      "(pdal pipeline readers.copc Debug) 1841 overlapping nodes\n"
     ]
    },
    {
     "name": "stdout",
     "output_type": "stream",
     "text": [
      "COPC merge finished -- processing time: 1662.5285313129425 seconds\n"
     ]
    }
   ],
   "source": [
    "def merge_copc():\n",
    "    \n",
    "    check_pipeline = [\n",
    "        \"Daniel Herstine Scan Data_0_chunk.copc.laz\",\n",
    "        \"Daniel Herstine Scan Data_1_chunk.copc.laz\",\n",
    "        \"Daniel Herstine Scan Data_2_chunk.copc.laz\",\n",
    "        \"Daniel Herstine Scan Data_3_chunk.copc.laz\",\n",
    "        \"Daniel Herstine Scan Data_4_chunk.copc.laz\",\n",
    "        \"Daniel Herstine Scan Data_5_chunk.copc.laz\",\n",
    "        \"Daniel Herstine Scan Data_6_chunk.copc.laz\",\n",
    "        \"Daniel Herstine Scan Data_7_chunk.copc.laz\",\n",
    "        \"Daniel Herstine Scan Data_8_chunk.copc.laz\",\n",
    "        \"Daniel Herstine Scan Data_9_chunk.copc.laz\",\n",
    "        \"Daniel Herstine Scan Data_10_chunk.copc.laz\",\n",
    "        \"Daniel Herstine Scan Data_11_chunk.copc.laz\",\n",
    "        \"Daniel Herstine Scan Data_12_chunk.copc.laz\",\n",
    "        \"Daniel Herstine Scan Data_13_chunk.copc.laz\",\n",
    "        \"Daniel Herstine Scan Data_14_chunk.copc.laz\",\n",
    "        \"Daniel Herstine Scan Data_15_chunk.copc.laz\",\n",
    "        \"Daniel Herstine Scan Data_16_chunk.copc.laz\",\n",
    "        \"Daniel Herstine Scan Data_17_chunk.copc.laz\",\n",
    "        \"Daniel Herstine Scan Data_18_chunk.copc.laz\",\n",
    "        \"Daniel Herstine Scan Data_19_chunk.copc.laz\",\n",
    "        {\"type\" : \"filters.merge\"},\n",
    "        \"Daniel Herstine Scan Data_merge.copc.laz\"\n",
    "    ]\n",
    "    pdal_command = [\"pdal\", \"pipeline\", \"--stdin\", \"-v\", \"8\"]\n",
    "    run(pdal_command, input=json.dumps(check_pipeline).encode(), check=True)\n",
    "\n",
    "start_time = time.time()\n",
    "merge_copc()\n",
    "end_time = time.time()\n",
    "print(f\"COPC merge finished -- processing time: {end_time - start_time} seconds\")"
   ]
  },
  {
   "cell_type": "code",
   "execution_count": null,
   "id": "f6dcb2f5-87c3-43e5-a65f-3b1ab5924b2a",
   "metadata": {},
   "outputs": [],
   "source": []
  }
 ],
 "metadata": {
  "kernelspec": {
   "display_name": "Python 3 (ipykernel)",
   "language": "python",
   "name": "python3"
  },
  "language_info": {
   "codemirror_mode": {
    "name": "ipython",
    "version": 3
   },
   "file_extension": ".py",
   "mimetype": "text/x-python",
   "name": "python",
   "nbconvert_exporter": "python",
   "pygments_lexer": "ipython3",
   "version": "3.9.18"
  }
 },
 "nbformat": 4,
 "nbformat_minor": 5
}
